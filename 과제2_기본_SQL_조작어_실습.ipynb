{
  "nbformat": 4,
  "nbformat_minor": 0,
  "metadata": {
    "colab": {
      "name": "과제2. 기본 SQL 조작어 실습",
      "provenance": [],
      "authorship_tag": "ABX9TyMJF9wBL/+MpZqO5Bwgi39Q",
      "include_colab_link": true
    },
    "kernelspec": {
      "name": "python3",
      "display_name": "Python 3"
    }
  },
  "cells": [
    {
      "cell_type": "markdown",
      "metadata": {
        "id": "view-in-github",
        "colab_type": "text"
      },
      "source": [
        "<a href=\"https://colab.research.google.com/github/mynameis-sohee/SQL-Study/blob/main/%EA%B3%BC%EC%A0%9C2_%EA%B8%B0%EB%B3%B8_SQL_%EC%A1%B0%EC%9E%91%EC%96%B4_%EC%8B%A4%EC%8A%B5.ipynb\" target=\"_parent\"><img src=\"https://colab.research.google.com/assets/colab-badge.svg\" alt=\"Open In Colab\"/></a>"
      ]
    },
    {
      "cell_type": "markdown",
      "metadata": {
        "id": "ph-HfrDKaR1w"
      },
      "source": [
        "### **SQL 기본 연습**\r\n",
        "\r\n",
        "https://www.sqlitetutorial.net/sqlite-sample-database/ 의 예제를 활용해, SQL 조작어를 실습해봅니다.\r\n",
        "\r\n",
        "사용한 TOOL : DBeaver\r\n"
      ]
    },
    {
      "cell_type": "markdown",
      "metadata": {
        "id": "7V7Rvdv-dbV8"
      },
      "source": [
        "1. AlbumId 가 30 인 앨범의 Title 조회\r\n"
      ]
    },
    {
      "cell_type": "code",
      "metadata": {
        "id": "WwGasZNsdqe9"
      },
      "source": [
        "select all AlbumId,Title from albums\r\n",
        "where AlbumId is 30;"
      ],
      "execution_count": null,
      "outputs": []
    },
    {
      "cell_type": "markdown",
      "metadata": {
        "id": "j_yCxiXudy0e"
      },
      "source": [
        "2. 아티스트 이름 중 'the' 가 들어간 앨범의 AlbumId 조회"
      ]
    },
    {
      "cell_type": "code",
      "metadata": {
        "id": "T6-ar_K7ey6j"
      },
      "source": [
        "select distinct albums.AlbumId from albums, artists\r\n",
        "where artists.Name like '%the%';"
      ],
      "execution_count": null,
      "outputs": []
    },
    {
      "cell_type": "markdown",
      "metadata": {
        "id": "ksASmArPd_8m"
      },
      "source": [
        "3. invoices 테이블에서 BillingCity 가 Stuttgart, Oslo, Redmond 인 InvoiceId 를 InvoiceId 에 따라 오름차순으로 조회"
      ]
    },
    {
      "cell_type": "code",
      "metadata": {
        "id": "a5MUq6zde3Gj"
      },
      "source": [
        "select InvoiceId from invoices \r\n",
        "where BillingCity = 'Stuttgart' or BillingCity = 'Oslo' or BillingCity = 'Redmond'\r\n",
        "order by InvoiceId asc; \r\n",
        "\r\n",
        "--order by에서 내림차순:DESC--"
      ],
      "execution_count": null,
      "outputs": []
    },
    {
      "cell_type": "markdown",
      "metadata": {
        "id": "65wcWvZpeEzT"
      },
      "source": [
        "4. tracks 테이블에서 트랙 Name 이 'The' 로 시작하는 trackId 조회"
      ]
    },
    {
      "cell_type": "code",
      "metadata": {
        "id": "hUnQgLWCe-NK"
      },
      "source": [
        "select TrackId from tracks \r\n",
        "where Name like 'The%';"
      ],
      "execution_count": null,
      "outputs": []
    },
    {
      "cell_type": "markdown",
      "metadata": {
        "id": "TEY5P-PXeJOv"
      },
      "source": [
        "5. customers 테이블에서 Email 이 'gmail.com' 인 CustomerId 조회"
      ]
    },
    {
      "cell_type": "code",
      "metadata": {
        "id": "0LCcLPGWfAxU"
      },
      "source": [
        "select CustomerId from customers\r\n",
        "where Email like '%gmail.com';"
      ],
      "execution_count": null,
      "outputs": []
    },
    {
      "cell_type": "markdown",
      "metadata": {
        "id": "NmIxRljweN8A"
      },
      "source": [
        "6. CustomerId 가 29, 30인 고객들의 주문금액이 1달러 이상 3달러 이하인 주문 (invoice)의 Id 조회"
      ]
    },
    {
      "cell_type": "code",
      "metadata": {
        "id": "rmqYdlCSfDzS"
      },
      "source": [
        "select all invoices.InvoiceId from customers, invoices\r\n",
        "where (customers.CustomerId = 29 or customers.CustomerId = 30 or customers.CustomerId = 63)\r\n",
        "and invoices.Total >= 1 and invoices.Total <= 3;"
      ],
      "execution_count": null,
      "outputs": []
    },
    {
      "cell_type": "markdown",
      "metadata": {
        "id": "J_XHJ5tIeYwp"
      },
      "source": [
        "7. 각 나라 (country) 별 고객 (customer) 수 산출"
      ]
    },
    {
      "cell_type": "code",
      "metadata": {
        "id": "twlrMFPYfI6w"
      },
      "source": [
        "select Country,count(*) from customers\r\n",
        "group by Country ;"
      ],
      "execution_count": null,
      "outputs": []
    },
    {
      "cell_type": "markdown",
      "metadata": {
        "id": "aXNwmzqled1B"
      },
      "source": [
        "8. 총 구매한 비용이 가장 많은 고객 (customer) 5명의 CustomerId 조회"
      ]
    },
    {
      "cell_type": "code",
      "metadata": {
        "id": "P7HxmGB_fRJc"
      },
      "source": [
        "select CustomerId, sum(Total) from invoices\r\n",
        "group by CustomerId \r\n",
        "order by sum(Total) desc limit 5;"
      ],
      "execution_count": null,
      "outputs": []
    },
    {
      "cell_type": "markdown",
      "metadata": {
        "id": "yDfTjq2derhm"
      },
      "source": [
        "9. 장르 (genre) 가 'Soundtrack' 인 트랙 중, 트랙의 길이 (Milliseconds) 가 350,000 이상 400,000 이하인 트랙들의 Id 조회"
      ]
    },
    {
      "cell_type": "code",
      "metadata": {
        "id": "rCKnFpZofFwE"
      },
      "source": [
        "select tracks.TrackId from genres, tracks\r\n",
        "where genres.Name = 'Soundtrack' and (tracks.Milliseconds >= 350000 and tracks.Milliseconds <= 400000);"
      ],
      "execution_count": null,
      "outputs": []
    }
  ]
}